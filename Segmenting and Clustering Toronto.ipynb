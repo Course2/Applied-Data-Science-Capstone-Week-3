{
    "cells": [
        {
            "cell_type": "markdown",
            "metadata": {
                "collapsed": true
            },
            "source": "# Applied Data Science Capstone Project - Week 3 - Segmenting and Clustering Neighborhoods in Toronto Canada."
        },
        {
            "cell_type": "markdown",
            "metadata": {},
            "source": "## Module 1. Create a DataFrame Consisting PostalCode, Borough, and Neighborhood."
        },
        {
            "cell_type": "markdown",
            "metadata": {},
            "source": "## Module 2. Use Geocoder to get  the geographical coordinates of each postal code."
        },
        {
            "cell_type": "markdown",
            "metadata": {},
            "source": "## Module 3. Explore and cluster the neighborhoods in Toronto."
        },
        {
            "cell_type": "markdown",
            "metadata": {},
            "source": "______________________________________________________________________________________________________________________________________________________"
        },
        {
            "cell_type": "markdown",
            "metadata": {},
            "source": "# Module 1: DataFrame"
        },
        {
            "cell_type": "markdown",
            "metadata": {},
            "source": "#### Install Libraries"
        },
        {
            "cell_type": "code",
            "execution_count": 1,
            "metadata": {},
            "outputs": [
                {
                    "name": "stdout",
                    "output_type": "stream",
                    "text": "Collecting folium\n  Downloading folium-0.11.0-py2.py3-none-any.whl (93 kB)\n\u001b[K     |\u2588\u2588\u2588\u2588\u2588\u2588\u2588\u2588\u2588\u2588\u2588\u2588\u2588\u2588\u2588\u2588\u2588\u2588\u2588\u2588\u2588\u2588\u2588\u2588\u2588\u2588\u2588\u2588\u2588\u2588\u2588\u2588| 93 kB 2.7 MB/s  eta 0:00:01\n\u001b[?25hCollecting branca>=0.3.0\n  Downloading branca-0.4.1-py3-none-any.whl (24 kB)\nRequirement already satisfied: requests in /opt/conda/envs/Python-3.7-main/lib/python3.7/site-packages (from folium) (2.24.0)\nRequirement already satisfied: numpy in /opt/conda/envs/Python-3.7-main/lib/python3.7/site-packages (from folium) (1.18.5)\nRequirement already satisfied: jinja2>=2.9 in /opt/conda/envs/Python-3.7-main/lib/python3.7/site-packages (from folium) (2.11.2)\nRequirement already satisfied: chardet<4,>=3.0.2 in /opt/conda/envs/Python-3.7-main/lib/python3.7/site-packages (from requests->folium) (3.0.4)\nRequirement already satisfied: certifi>=2017.4.17 in /opt/conda/envs/Python-3.7-main/lib/python3.7/site-packages (from requests->folium) (2020.6.20)\nRequirement already satisfied: urllib3!=1.25.0,!=1.25.1,<1.26,>=1.21.1 in /opt/conda/envs/Python-3.7-main/lib/python3.7/site-packages (from requests->folium) (1.25.9)\nRequirement already satisfied: idna<3,>=2.5 in /opt/conda/envs/Python-3.7-main/lib/python3.7/site-packages (from requests->folium) (2.9)\nRequirement already satisfied: MarkupSafe>=0.23 in /opt/conda/envs/Python-3.7-main/lib/python3.7/site-packages (from jinja2>=2.9->folium) (1.1.1)\nInstalling collected packages: branca, folium\nSuccessfully installed branca-0.4.1 folium-0.11.0\nInstalled!\n"
                }
            ],
            "source": "#install folium\n!pip install folium\n\nprint(\"Installed!\")"
        },
        {
            "cell_type": "code",
            "execution_count": 2,
            "metadata": {},
            "outputs": [
                {
                    "name": "stdout",
                    "output_type": "stream",
                    "text": "Requirement already satisfied: geopy in /opt/conda/envs/Python-3.7-main/lib/python3.7/site-packages (2.0.0)\nRequirement already satisfied: geographiclib<2,>=1.49 in /opt/conda/envs/Python-3.7-main/lib/python3.7/site-packages (from geopy) (1.50)\nInstalled!\n"
                }
            ],
            "source": "#install geopy\n!pip install geopy\n\nprint('Installed!')"
        },
        {
            "cell_type": "markdown",
            "metadata": {},
            "source": "#### Creating a dataframe and transforming the data."
        },
        {
            "cell_type": "code",
            "execution_count": 3,
            "metadata": {},
            "outputs": [
                {
                    "name": "stdout",
                    "output_type": "stream",
                    "text": "Imported!\n"
                }
            ],
            "source": "#importing libraries\nimport pandas as pd\nimport numpy as np\nimport requests\nfrom bs4 import BeautifulSoup\n\nprint(\"Imported!\") "
        },
        {
            "cell_type": "code",
            "execution_count": 4,
            "metadata": {},
            "outputs": [
                {
                    "name": "stdout",
                    "output_type": "stream",
                    "text": "https://en.wikipedia.org/wiki/List_of_postal_codes_of_Canada:_M\n200\n{'Date': 'Wed, 02 Dec 2020 19:16:35 GMT', 'Vary': 'Accept-Encoding,Cookie,Authorization', 'Server': 'ATS/8.0.8', 'X-Content-Type-Options': 'nosniff', 'P3p': 'CP=\"See https://en.wikipedia.org/wiki/Special:CentralAutoLogin/P3P for more info.\"', 'Content-Language': 'en', 'X-Request-Id': '892463d1-c050-44a5-a430-b0ff315c77ef', 'Last-Modified': 'Sat, 28 Nov 2020 07:26:32 GMT', 'Content-Type': 'text/html; charset=UTF-8', 'Content-Encoding': 'gzip', 'Age': '0', 'X-Cache': 'cp2041 hit, cp2027 miss', 'X-Cache-Status': 'hit-local', 'Server-Timing': 'cache;desc=\"hit-local\"', 'Strict-Transport-Security': 'max-age=106384710; includeSubDomains; preload', 'Report-To': '{ \"group\": \"wm_nel\", \"max_age\": 86400, \"endpoints\": [{ \"url\": \"https://intake-logging.wikimedia.org/v1/events?stream=w3c.reportingapi.network_error&schema_uri=/w3c/reportingapi/network_error/1.0.0\" }] }', 'NEL': '{ \"report_to\": \"wm_nel\", \"max_age\": 86400, \"failure_fraction\": 0.05, \"success_fraction\": 0.0}', 'Set-Cookie': 'WMF-Last-Access=02-Dec-2020;Path=/;HttpOnly;secure;Expires=Sun, 03 Jan 2021 12:00:00 GMT, WMF-Last-Access-Global=02-Dec-2020;Path=/;Domain=.wikipedia.org;HttpOnly;secure;Expires=Sun, 03 Jan 2021 12:00:00 GMT, GeoIP=US:::37.75:-97.82:v4; Path=/; secure; Domain=.wikipedia.org', 'X-Client-IP': '169.62.147.14', 'Cache-Control': 'private, s-maxage=0, max-age=0, must-revalidate', 'Accept-Ranges': 'bytes', 'Transfer-Encoding': 'chunked', 'Connection': 'keep-alive'}\n"
                }
            ],
            "source": "#extracting data from Wikipedia using BeautifulSoup\nurl = \"https://en.wikipedia.org/wiki/List_of_postal_codes_of_Canada:_M\"\nresult  = requests.get(url)\n\nprint(url)\nprint(result.status_code)\nprint(result.headers)"
        },
        {
            "cell_type": "code",
            "execution_count": 5,
            "metadata": {},
            "outputs": [],
            "source": "soup = BeautifulSoup(result.content, 'html.parser')\ntable = soup.find('table')\ntrs = table.find_all('tr')\nrows = []\nfor tr in trs:\n    i = tr.find_all('td')\n    if i:\n        rows.append(i)"
        },
        {
            "cell_type": "code",
            "execution_count": 6,
            "metadata": {},
            "outputs": [],
            "source": "df = []\nfor row in rows:\n    postalcode = row[0].text.rstrip()\n    borough = row[1].text.rstrip()\n    neighborhood = row[2].text.rstrip()\n    if borough != 'Not assigned':\n        if neighborhood == 'Not assigned':\n            neighborhood = borough\n        df.append([postalcode, borough, neighborhood])    "
        },
        {
            "cell_type": "markdown",
            "metadata": {},
            "source": "#### Load Data"
        },
        {
            "cell_type": "code",
            "execution_count": 7,
            "metadata": {},
            "outputs": [
                {
                    "data": {
                        "text/plain": "[['M3A', 'North York', 'Parkwoods'],\n ['M4A', 'North York', 'Victoria Village'],\n ['M5A', 'Downtown Toronto', 'Regent Park, Harbourfront'],\n ['M6A', 'North York', 'Lawrence Manor, Lawrence Heights'],\n ['M7A', 'Downtown Toronto', \"Queen's Park, Ontario Provincial Government\"],\n ['M9A', 'Etobicoke', 'Islington Avenue, Humber Valley Village'],\n ['M1B', 'Scarborough', 'Malvern, Rouge'],\n ['M3B', 'North York', 'Don Mills'],\n ['M4B', 'East York', 'Parkview Hill, Woodbine Gardens'],\n ['M5B', 'Downtown Toronto', 'Garden District, Ryerson'],\n ['M6B', 'North York', 'Glencairn'],\n ['M9B',\n  'Etobicoke',\n  'West Deane Park, Princess Gardens, Martin Grove, Islington, Cloverdale'],\n ['M1C', 'Scarborough', 'Rouge Hill, Port Union, Highland Creek'],\n ['M3C', 'North York', 'Don Mills'],\n ['M4C', 'East York', 'Woodbine Heights'],\n ['M5C', 'Downtown Toronto', 'St. James Town'],\n ['M6C', 'York', 'Humewood-Cedarvale'],\n ['M9C',\n  'Etobicoke',\n  'Eringate, Bloordale Gardens, Old Burnhamthorpe, Markland Wood'],\n ['M1E', 'Scarborough', 'Guildwood, Morningside, West Hill'],\n ['M4E', 'East Toronto', 'The Beaches'],\n ['M5E', 'Downtown Toronto', 'Berczy Park'],\n ['M6E', 'York', 'Caledonia-Fairbanks'],\n ['M1G', 'Scarborough', 'Woburn'],\n ['M4G', 'East York', 'Leaside'],\n ['M5G', 'Downtown Toronto', 'Central Bay Street'],\n ['M6G', 'Downtown Toronto', 'Christie'],\n ['M1H', 'Scarborough', 'Cedarbrae'],\n ['M2H', 'North York', 'Hillcrest Village'],\n ['M3H', 'North York', 'Bathurst Manor, Wilson Heights, Downsview North'],\n ['M4H', 'East York', 'Thorncliffe Park'],\n ['M5H', 'Downtown Toronto', 'Richmond, Adelaide, King'],\n ['M6H', 'West Toronto', 'Dufferin, Dovercourt Village'],\n ['M1J', 'Scarborough', 'Scarborough Village'],\n ['M2J', 'North York', 'Fairview, Henry Farm, Oriole'],\n ['M3J', 'North York', 'Northwood Park, York University'],\n ['M4J', 'East York', 'East Toronto, Broadview North (Old East York)'],\n ['M5J',\n  'Downtown Toronto',\n  'Harbourfront East, Union Station, Toronto Islands'],\n ['M6J', 'West Toronto', 'Little Portugal, Trinity'],\n ['M1K', 'Scarborough', 'Kennedy Park, Ionview, East Birchmount Park'],\n ['M2K', 'North York', 'Bayview Village'],\n ['M3K', 'North York', 'Downsview'],\n ['M4K', 'East Toronto', 'The Danforth West, Riverdale'],\n ['M5K', 'Downtown Toronto', 'Toronto Dominion Centre, Design Exchange'],\n ['M6K', 'West Toronto', 'Brockton, Parkdale Village, Exhibition Place'],\n ['M1L', 'Scarborough', 'Golden Mile, Clairlea, Oakridge'],\n ['M2L', 'North York', 'York Mills, Silver Hills'],\n ['M3L', 'North York', 'Downsview'],\n ['M4L', 'East Toronto', 'India Bazaar, The Beaches West'],\n ['M5L', 'Downtown Toronto', 'Commerce Court, Victoria Hotel'],\n ['M6L', 'North York', 'North Park, Maple Leaf Park, Upwood Park'],\n ['M9L', 'North York', 'Humber Summit'],\n ['M1M', 'Scarborough', 'Cliffside, Cliffcrest, Scarborough Village West'],\n ['M2M', 'North York', 'Willowdale, Newtonbrook'],\n ['M3M', 'North York', 'Downsview'],\n ['M4M', 'East Toronto', 'Studio District'],\n ['M5M', 'North York', 'Bedford Park, Lawrence Manor East'],\n ['M6M', 'York', 'Del Ray, Mount Dennis, Keelsdale and Silverthorn'],\n ['M9M', 'North York', 'Humberlea, Emery'],\n ['M1N', 'Scarborough', 'Birch Cliff, Cliffside West'],\n ['M2N', 'North York', 'Willowdale, Willowdale East'],\n ['M3N', 'North York', 'Downsview'],\n ['M4N', 'Central Toronto', 'Lawrence Park'],\n ['M5N', 'Central Toronto', 'Roselawn'],\n ['M6N', 'York', 'Runnymede, The Junction North'],\n ['M9N', 'York', 'Weston'],\n ['M1P',\n  'Scarborough',\n  'Dorset Park, Wexford Heights, Scarborough Town Centre'],\n ['M2P', 'North York', 'York Mills West'],\n ['M4P', 'Central Toronto', 'Davisville North'],\n ['M5P', 'Central Toronto', 'Forest Hill North & West, Forest Hill Road Park'],\n ['M6P', 'West Toronto', 'High Park, The Junction South'],\n ['M9P', 'Etobicoke', 'Westmount'],\n ['M1R', 'Scarborough', 'Wexford, Maryvale'],\n ['M2R', 'North York', 'Willowdale, Willowdale West'],\n ['M4R', 'Central Toronto', 'North Toronto West,  Lawrence Park'],\n ['M5R', 'Central Toronto', 'The Annex, North Midtown, Yorkville'],\n ['M6R', 'West Toronto', 'Parkdale, Roncesvalles'],\n ['M7R', 'Mississauga', 'Canada Post Gateway Processing Centre'],\n ['M9R',\n  'Etobicoke',\n  'Kingsview Village, St. Phillips, Martin Grove Gardens, Richview Gardens'],\n ['M1S', 'Scarborough', 'Agincourt'],\n ['M4S', 'Central Toronto', 'Davisville'],\n ['M5S', 'Downtown Toronto', 'University of Toronto, Harbord'],\n ['M6S', 'West Toronto', 'Runnymede, Swansea'],\n ['M1T', 'Scarborough', \"Clarks Corners, Tam O'Shanter, Sullivan\"],\n ['M4T', 'Central Toronto', 'Moore Park, Summerhill East'],\n ['M5T', 'Downtown Toronto', 'Kensington Market, Chinatown, Grange Park'],\n ['M1V',\n  'Scarborough',\n  \"Milliken, Agincourt North, Steeles East, L'Amoreaux East\"],\n ['M4V',\n  'Central Toronto',\n  'Summerhill West, Rathnelly, South Hill, Forest Hill SE, Deer Park'],\n ['M5V',\n  'Downtown Toronto',\n  'CN Tower, King and Spadina, Railway Lands, Harbourfront West, Bathurst Quay, South Niagara, Island airport'],\n ['M8V', 'Etobicoke', 'New Toronto, Mimico South, Humber Bay Shores'],\n ['M9V',\n  'Etobicoke',\n  'South Steeles, Silverstone, Humbergate, Jamestown, Mount Olive, Beaumond Heights, Thistletown, Albion Gardens'],\n ['M1W', 'Scarborough', \"Steeles West, L'Amoreaux West\"],\n ['M4W', 'Downtown Toronto', 'Rosedale'],\n ['M5W', 'Downtown Toronto', 'Stn A PO Boxes'],\n ['M8W', 'Etobicoke', 'Alderwood, Long Branch'],\n ['M9W', 'Etobicoke', 'Northwest, West Humber - Clairville'],\n ['M1X', 'Scarborough', 'Upper Rouge'],\n ['M4X', 'Downtown Toronto', 'St. James Town, Cabbagetown'],\n ['M5X', 'Downtown Toronto', 'First Canadian Place, Underground city'],\n ['M8X', 'Etobicoke', 'The Kingsway, Montgomery Road, Old Mill North'],\n ['M4Y', 'Downtown Toronto', 'Church and Wellesley'],\n ['M7Y',\n  'East Toronto',\n  'Business reply mail Processing Centre, South Central Letter Processing Plant Toronto'],\n ['M8Y',\n  'Etobicoke',\n  \"Old Mill South, King's Mill Park, Sunnylea, Humber Bay, Mimico NE, The Queensway East, Royal York South East, Kingsway Park South East\"],\n ['M8Z',\n  'Etobicoke',\n  'Mimico NW, The Queensway West, South of Bloor, Kingsway Park South West, Royal York South West']]"
                    },
                    "execution_count": 7,
                    "metadata": {},
                    "output_type": "execute_result"
                }
            ],
            "source": "df"
        },
        {
            "cell_type": "code",
            "execution_count": 8,
            "metadata": {},
            "outputs": [],
            "source": "#column names\ncolumn_name = ['PostalCode', 'Borough', 'Neighborhood']\nToronto = pd.DataFrame(df, columns=column_name)"
        },
        {
            "cell_type": "code",
            "execution_count": 9,
            "metadata": {},
            "outputs": [
                {
                    "data": {
                        "text/plain": "(103, 3)"
                    },
                    "execution_count": 9,
                    "metadata": {},
                    "output_type": "execute_result"
                }
            ],
            "source": "#basic information rows, columns\nToronto.shape"
        },
        {
            "cell_type": "code",
            "execution_count": 10,
            "metadata": {},
            "outputs": [
                {
                    "data": {
                        "text/html": "<div>\n<style scoped>\n    .dataframe tbody tr th:only-of-type {\n        vertical-align: middle;\n    }\n\n    .dataframe tbody tr th {\n        vertical-align: top;\n    }\n\n    .dataframe thead th {\n        text-align: right;\n    }\n</style>\n<table border=\"1\" class=\"dataframe\">\n  <thead>\n    <tr style=\"text-align: right;\">\n      <th></th>\n      <th>PostalCode</th>\n      <th>Borough</th>\n      <th>Neighborhood</th>\n    </tr>\n  </thead>\n  <tbody>\n  </tbody>\n</table>\n</div>",
                        "text/plain": "Empty DataFrame\nColumns: [PostalCode, Borough, Neighborhood]\nIndex: []"
                    },
                    "execution_count": 10,
                    "metadata": {},
                    "output_type": "execute_result"
                }
            ],
            "source": "Toronto[Toronto.duplicated(['PostalCode'], keep=False)]"
        },
        {
            "cell_type": "code",
            "execution_count": 11,
            "metadata": {},
            "outputs": [
                {
                    "data": {
                        "text/html": "<div>\n<style scoped>\n    .dataframe tbody tr th:only-of-type {\n        vertical-align: middle;\n    }\n\n    .dataframe tbody tr th {\n        vertical-align: top;\n    }\n\n    .dataframe thead th {\n        text-align: right;\n    }\n</style>\n<table border=\"1\" class=\"dataframe\">\n  <thead>\n    <tr style=\"text-align: right;\">\n      <th></th>\n      <th>PostalCode</th>\n      <th>Borough</th>\n      <th>Neighborhood</th>\n    </tr>\n  </thead>\n  <tbody>\n    <tr>\n      <th>0</th>\n      <td>M3A</td>\n      <td>North York</td>\n      <td>Parkwoods</td>\n    </tr>\n    <tr>\n      <th>1</th>\n      <td>M4A</td>\n      <td>North York</td>\n      <td>Victoria Village</td>\n    </tr>\n    <tr>\n      <th>2</th>\n      <td>M5A</td>\n      <td>Downtown Toronto</td>\n      <td>Regent Park, Harbourfront</td>\n    </tr>\n    <tr>\n      <th>3</th>\n      <td>M6A</td>\n      <td>North York</td>\n      <td>Lawrence Manor, Lawrence Heights</td>\n    </tr>\n    <tr>\n      <th>4</th>\n      <td>M7A</td>\n      <td>Downtown Toronto</td>\n      <td>Queen's Park, Ontario Provincial Government</td>\n    </tr>\n  </tbody>\n</table>\n</div>",
                        "text/plain": "  PostalCode           Borough                                 Neighborhood\n0        M3A        North York                                    Parkwoods\n1        M4A        North York                             Victoria Village\n2        M5A  Downtown Toronto                    Regent Park, Harbourfront\n3        M6A        North York             Lawrence Manor, Lawrence Heights\n4        M7A  Downtown Toronto  Queen's Park, Ontario Provincial Government"
                    },
                    "execution_count": 11,
                    "metadata": {},
                    "output_type": "execute_result"
                }
            ],
            "source": "#display the first 5 columns of the dataframe\nToronto.head()"
        },
        {
            "cell_type": "code",
            "execution_count": 12,
            "metadata": {},
            "outputs": [
                {
                    "data": {
                        "text/html": "<div>\n<style scoped>\n    .dataframe tbody tr th:only-of-type {\n        vertical-align: middle;\n    }\n\n    .dataframe tbody tr th {\n        vertical-align: top;\n    }\n\n    .dataframe thead th {\n        text-align: right;\n    }\n</style>\n<table border=\"1\" class=\"dataframe\">\n  <thead>\n    <tr style=\"text-align: right;\">\n      <th></th>\n      <th>PostalCode</th>\n      <th>Borough</th>\n      <th>Neighborhood</th>\n    </tr>\n  </thead>\n  <tbody>\n    <tr>\n      <th>98</th>\n      <td>M8X</td>\n      <td>Etobicoke</td>\n      <td>The Kingsway, Montgomery Road, Old Mill North</td>\n    </tr>\n    <tr>\n      <th>99</th>\n      <td>M4Y</td>\n      <td>Downtown Toronto</td>\n      <td>Church and Wellesley</td>\n    </tr>\n    <tr>\n      <th>100</th>\n      <td>M7Y</td>\n      <td>East Toronto</td>\n      <td>Business reply mail Processing Centre, South C...</td>\n    </tr>\n    <tr>\n      <th>101</th>\n      <td>M8Y</td>\n      <td>Etobicoke</td>\n      <td>Old Mill South, King's Mill Park, Sunnylea, Hu...</td>\n    </tr>\n    <tr>\n      <th>102</th>\n      <td>M8Z</td>\n      <td>Etobicoke</td>\n      <td>Mimico NW, The Queensway West, South of Bloor,...</td>\n    </tr>\n  </tbody>\n</table>\n</div>",
                        "text/plain": "    PostalCode           Borough  \\\n98         M8X         Etobicoke   \n99         M4Y  Downtown Toronto   \n100        M7Y      East Toronto   \n101        M8Y         Etobicoke   \n102        M8Z         Etobicoke   \n\n                                          Neighborhood  \n98       The Kingsway, Montgomery Road, Old Mill North  \n99                                Church and Wellesley  \n100  Business reply mail Processing Centre, South C...  \n101  Old Mill South, King's Mill Park, Sunnylea, Hu...  \n102  Mimico NW, The Queensway West, South of Bloor,...  "
                    },
                    "execution_count": 12,
                    "metadata": {},
                    "output_type": "execute_result"
                }
            ],
            "source": "#display the last 5 columns of the dataframe\nToronto.tail()"
        },
        {
            "cell_type": "code",
            "execution_count": 13,
            "metadata": {},
            "outputs": [
                {
                    "data": {
                        "text/html": "<div>\n<style scoped>\n    .dataframe tbody tr th:only-of-type {\n        vertical-align: middle;\n    }\n\n    .dataframe tbody tr th {\n        vertical-align: top;\n    }\n\n    .dataframe thead th {\n        text-align: right;\n    }\n</style>\n<table border=\"1\" class=\"dataframe\">\n  <thead>\n    <tr style=\"text-align: right;\">\n      <th></th>\n      <th>PostalCode</th>\n      <th>Borough</th>\n      <th>Neighborhood</th>\n    </tr>\n  </thead>\n  <tbody>\n    <tr>\n      <th>count</th>\n      <td>103</td>\n      <td>103</td>\n      <td>103</td>\n    </tr>\n    <tr>\n      <th>unique</th>\n      <td>103</td>\n      <td>10</td>\n      <td>99</td>\n    </tr>\n    <tr>\n      <th>top</th>\n      <td>M4T</td>\n      <td>North York</td>\n      <td>Downsview</td>\n    </tr>\n    <tr>\n      <th>freq</th>\n      <td>1</td>\n      <td>24</td>\n      <td>4</td>\n    </tr>\n  </tbody>\n</table>\n</div>",
                        "text/plain": "       PostalCode     Borough Neighborhood\ncount         103         103          103\nunique        103          10           99\ntop           M4T  North York    Downsview\nfreq            1          24            4"
                    },
                    "execution_count": 13,
                    "metadata": {},
                    "output_type": "execute_result"
                }
            ],
            "source": "#obtain statistical summary of the dataframe\nToronto.describe()"
        },
        {
            "cell_type": "markdown",
            "metadata": {},
            "source": "#### Looking at the data by PostalCode"
        },
        {
            "cell_type": "code",
            "execution_count": 14,
            "metadata": {},
            "outputs": [
                {
                    "data": {
                        "text/html": "<div>\n<style scoped>\n    .dataframe tbody tr th:only-of-type {\n        vertical-align: middle;\n    }\n\n    .dataframe tbody tr th {\n        vertical-align: top;\n    }\n\n    .dataframe thead th {\n        text-align: right;\n    }\n</style>\n<table border=\"1\" class=\"dataframe\">\n  <thead>\n    <tr style=\"text-align: right;\">\n      <th></th>\n      <th>PostalCode</th>\n      <th>Borough</th>\n      <th>Neighborhood</th>\n    </tr>\n  </thead>\n  <tbody>\n    <tr>\n      <th>0</th>\n      <td>M1B</td>\n      <td>Scarborough</td>\n      <td>Malvern, Rouge</td>\n    </tr>\n    <tr>\n      <th>1</th>\n      <td>M1C</td>\n      <td>Scarborough</td>\n      <td>Rouge Hill, Port Union, Highland Creek</td>\n    </tr>\n    <tr>\n      <th>2</th>\n      <td>M1E</td>\n      <td>Scarborough</td>\n      <td>Guildwood, Morningside, West Hill</td>\n    </tr>\n    <tr>\n      <th>3</th>\n      <td>M1G</td>\n      <td>Scarborough</td>\n      <td>Woburn</td>\n    </tr>\n    <tr>\n      <th>4</th>\n      <td>M1H</td>\n      <td>Scarborough</td>\n      <td>Cedarbrae</td>\n    </tr>\n    <tr>\n      <th>...</th>\n      <td>...</td>\n      <td>...</td>\n      <td>...</td>\n    </tr>\n    <tr>\n      <th>98</th>\n      <td>M9N</td>\n      <td>York</td>\n      <td>Weston</td>\n    </tr>\n    <tr>\n      <th>99</th>\n      <td>M9P</td>\n      <td>Etobicoke</td>\n      <td>Westmount</td>\n    </tr>\n    <tr>\n      <th>100</th>\n      <td>M9R</td>\n      <td>Etobicoke</td>\n      <td>Kingsview Village, St. Phillips, Martin Grove ...</td>\n    </tr>\n    <tr>\n      <th>101</th>\n      <td>M9V</td>\n      <td>Etobicoke</td>\n      <td>South Steeles, Silverstone, Humbergate, Jamest...</td>\n    </tr>\n    <tr>\n      <th>102</th>\n      <td>M9W</td>\n      <td>Etobicoke</td>\n      <td>Northwest, West Humber - Clairville</td>\n    </tr>\n  </tbody>\n</table>\n<p>103 rows \u00d7 3 columns</p>\n</div>",
                        "text/plain": "    PostalCode      Borough                                       Neighborhood\n0          M1B  Scarborough                                     Malvern, Rouge\n1          M1C  Scarborough             Rouge Hill, Port Union, Highland Creek\n2          M1E  Scarborough                  Guildwood, Morningside, West Hill\n3          M1G  Scarborough                                             Woburn\n4          M1H  Scarborough                                          Cedarbrae\n..         ...          ...                                                ...\n98         M9N         York                                             Weston\n99         M9P    Etobicoke                                          Westmount\n100        M9R    Etobicoke  Kingsview Village, St. Phillips, Martin Grove ...\n101        M9V    Etobicoke  South Steeles, Silverstone, Humbergate, Jamest...\n102        M9W    Etobicoke                Northwest, West Humber - Clairville\n\n[103 rows x 3 columns]"
                    },
                    "execution_count": 14,
                    "metadata": {},
                    "output_type": "execute_result"
                }
            ],
            "source": "#group by \"postalcode\" and reset the index\nToronto = Toronto.groupby('PostalCode').agg({'Borough':'first', 'Neighborhood': ', '.join,}).reset_index()\nToronto"
        },
        {
            "cell_type": "code",
            "execution_count": 15,
            "metadata": {},
            "outputs": [
                {
                    "data": {
                        "text/html": "<div>\n<style scoped>\n    .dataframe tbody tr th:only-of-type {\n        vertical-align: middle;\n    }\n\n    .dataframe tbody tr th {\n        vertical-align: top;\n    }\n\n    .dataframe thead th {\n        text-align: right;\n    }\n</style>\n<table border=\"1\" class=\"dataframe\">\n  <thead>\n    <tr style=\"text-align: right;\">\n      <th></th>\n      <th>PostalCode</th>\n      <th>Borough</th>\n      <th>Neighborhood</th>\n    </tr>\n  </thead>\n  <tbody>\n    <tr>\n      <th>53</th>\n      <td>M5A</td>\n      <td>Downtown Toronto</td>\n      <td>Regent Park, Harbourfront</td>\n    </tr>\n  </tbody>\n</table>\n</div>",
                        "text/plain": "   PostalCode           Borough               Neighborhood\n53        M5A  Downtown Toronto  Regent Park, Harbourfront"
                    },
                    "execution_count": 15,
                    "metadata": {},
                    "output_type": "execute_result"
                }
            ],
            "source": "#dispaly merging neighborhood sample \"M5A\" location\nToronto.loc[Toronto['PostalCode'] == 'M5A']"
        },
        {
            "cell_type": "code",
            "execution_count": 16,
            "metadata": {},
            "outputs": [],
            "source": "#drop cells with a \"Not assigned\" borough\nToronto = Toronto.dropna()\nempty = 'Not assigned'\nToronto = Toronto[(Toronto.PostalCode != empty ) & (Toronto.Borough != empty) & (Toronto.Neighborhood != empty)]"
        },
        {
            "cell_type": "code",
            "execution_count": 17,
            "metadata": {},
            "outputs": [
                {
                    "data": {
                        "text/html": "<div>\n<style scoped>\n    .dataframe tbody tr th:only-of-type {\n        vertical-align: middle;\n    }\n\n    .dataframe tbody tr th {\n        vertical-align: top;\n    }\n\n    .dataframe thead th {\n        text-align: right;\n    }\n</style>\n<table border=\"1\" class=\"dataframe\">\n  <thead>\n    <tr style=\"text-align: right;\">\n      <th></th>\n      <th>PostalCode</th>\n      <th>Borough</th>\n      <th>Neighborhood</th>\n    </tr>\n  </thead>\n  <tbody>\n    <tr>\n      <th>0</th>\n      <td>M1B</td>\n      <td>Scarborough</td>\n      <td>Malvern, Rouge</td>\n    </tr>\n    <tr>\n      <th>1</th>\n      <td>M1C</td>\n      <td>Scarborough</td>\n      <td>Rouge Hill, Port Union, Highland Creek</td>\n    </tr>\n    <tr>\n      <th>2</th>\n      <td>M1E</td>\n      <td>Scarborough</td>\n      <td>Guildwood, Morningside, West Hill</td>\n    </tr>\n    <tr>\n      <th>3</th>\n      <td>M1G</td>\n      <td>Scarborough</td>\n      <td>Woburn</td>\n    </tr>\n    <tr>\n      <th>4</th>\n      <td>M1H</td>\n      <td>Scarborough</td>\n      <td>Cedarbrae</td>\n    </tr>\n    <tr>\n      <th>5</th>\n      <td>M1J</td>\n      <td>Scarborough</td>\n      <td>Scarborough Village</td>\n    </tr>\n    <tr>\n      <th>6</th>\n      <td>M1K</td>\n      <td>Scarborough</td>\n      <td>Kennedy Park, Ionview, East Birchmount Park</td>\n    </tr>\n    <tr>\n      <th>7</th>\n      <td>M1L</td>\n      <td>Scarborough</td>\n      <td>Golden Mile, Clairlea, Oakridge</td>\n    </tr>\n    <tr>\n      <th>8</th>\n      <td>M1M</td>\n      <td>Scarborough</td>\n      <td>Cliffside, Cliffcrest, Scarborough Village West</td>\n    </tr>\n    <tr>\n      <th>9</th>\n      <td>M1N</td>\n      <td>Scarborough</td>\n      <td>Birch Cliff, Cliffside West</td>\n    </tr>\n  </tbody>\n</table>\n</div>",
                        "text/plain": "  PostalCode      Borough                                     Neighborhood\n0        M1B  Scarborough                                   Malvern, Rouge\n1        M1C  Scarborough           Rouge Hill, Port Union, Highland Creek\n2        M1E  Scarborough                Guildwood, Morningside, West Hill\n3        M1G  Scarborough                                           Woburn\n4        M1H  Scarborough                                        Cedarbrae\n5        M1J  Scarborough                              Scarborough Village\n6        M1K  Scarborough      Kennedy Park, Ionview, East Birchmount Park\n7        M1L  Scarborough                  Golden Mile, Clairlea, Oakridge\n8        M1M  Scarborough  Cliffside, Cliffcrest, Scarborough Village West\n9        M1N  Scarborough                      Birch Cliff, Cliffside West"
                    },
                    "execution_count": 17,
                    "metadata": {},
                    "output_type": "execute_result"
                }
            ],
            "source": "#display the first 10 columns of the dataframe\nToronto.head(10)"
        },
        {
            "cell_type": "code",
            "execution_count": 18,
            "metadata": {},
            "outputs": [
                {
                    "data": {
                        "text/plain": "(103, 3)"
                    },
                    "execution_count": 18,
                    "metadata": {},
                    "output_type": "execute_result"
                }
            ],
            "source": "Toronto.shape"
        },
        {
            "cell_type": "markdown",
            "metadata": {},
            "source": "# Module 2: Geographical Coordinates"
        },
        {
            "cell_type": "markdown",
            "metadata": {},
            "source": "#### Getting the latitude and the longitude coordinates of each neighborhood."
        },
        {
            "cell_type": "code",
            "execution_count": 19,
            "metadata": {},
            "outputs": [
                {
                    "name": "stdout",
                    "output_type": "stream",
                    "text": "Imported!\n"
                }
            ],
            "source": "#import libraries\nimport pandas as pd\nimport numpy as np\nfrom geopy.geocoders import Nominatim\n\nprint(\"Imported!\")"
        },
        {
            "cell_type": "code",
            "execution_count": 20,
            "metadata": {},
            "outputs": [],
            "source": "#import geographical coordinates\nTorontoGeo = pd.read_csv(\"https://cocl.us/Geospatial_data\")"
        },
        {
            "cell_type": "code",
            "execution_count": 21,
            "metadata": {},
            "outputs": [],
            "source": "TorontoGeo.rename(columns={'Postal Code': 'PostalCode'}, inplace=True)"
        },
        {
            "cell_type": "code",
            "execution_count": 22,
            "metadata": {},
            "outputs": [],
            "source": "TorontoG = pd.merge(Toronto, TorontoGeo, on=\"PostalCode\", how='left')"
        },
        {
            "cell_type": "markdown",
            "metadata": {},
            "source": "#### Adding Latitude and Longitude"
        },
        {
            "cell_type": "code",
            "execution_count": 23,
            "metadata": {},
            "outputs": [
                {
                    "data": {
                        "text/html": "<div>\n<style scoped>\n    .dataframe tbody tr th:only-of-type {\n        vertical-align: middle;\n    }\n\n    .dataframe tbody tr th {\n        vertical-align: top;\n    }\n\n    .dataframe thead th {\n        text-align: right;\n    }\n</style>\n<table border=\"1\" class=\"dataframe\">\n  <thead>\n    <tr style=\"text-align: right;\">\n      <th></th>\n      <th>PostalCode</th>\n      <th>Borough</th>\n      <th>Neighborhood</th>\n      <th>Latitude</th>\n      <th>Longitude</th>\n    </tr>\n  </thead>\n  <tbody>\n    <tr>\n      <th>53</th>\n      <td>M5A</td>\n      <td>Downtown Toronto</td>\n      <td>Regent Park, Harbourfront</td>\n      <td>43.65426</td>\n      <td>-79.360636</td>\n    </tr>\n  </tbody>\n</table>\n</div>",
                        "text/plain": "   PostalCode           Borough               Neighborhood  Latitude  \\\n53        M5A  Downtown Toronto  Regent Park, Harbourfront  43.65426   \n\n    Longitude  \n53 -79.360636  "
                    },
                    "execution_count": 23,
                    "metadata": {},
                    "output_type": "execute_result"
                }
            ],
            "source": "#sampling dataframe\nTorontoG.loc[TorontoG['PostalCode'] == 'M5A']"
        },
        {
            "cell_type": "code",
            "execution_count": 24,
            "metadata": {},
            "outputs": [
                {
                    "data": {
                        "text/html": "<div>\n<style scoped>\n    .dataframe tbody tr th:only-of-type {\n        vertical-align: middle;\n    }\n\n    .dataframe tbody tr th {\n        vertical-align: top;\n    }\n\n    .dataframe thead th {\n        text-align: right;\n    }\n</style>\n<table border=\"1\" class=\"dataframe\">\n  <thead>\n    <tr style=\"text-align: right;\">\n      <th></th>\n      <th>PostalCode</th>\n      <th>Borough</th>\n      <th>Neighborhood</th>\n      <th>Latitude</th>\n      <th>Longitude</th>\n    </tr>\n  </thead>\n  <tbody>\n    <tr>\n      <th>91</th>\n      <td>M8Y</td>\n      <td>Etobicoke</td>\n      <td>Old Mill South, King's Mill Park, Sunnylea, Hu...</td>\n      <td>43.636258</td>\n      <td>-79.498509</td>\n    </tr>\n  </tbody>\n</table>\n</div>",
                        "text/plain": "   PostalCode    Borough                                       Neighborhood  \\\n91        M8Y  Etobicoke  Old Mill South, King's Mill Park, Sunnylea, Hu...   \n\n     Latitude  Longitude  \n91  43.636258 -79.498509  "
                    },
                    "execution_count": 24,
                    "metadata": {},
                    "output_type": "execute_result"
                }
            ],
            "source": "#sampling dataframe\nTorontoG.loc[TorontoG['PostalCode'] == 'M8Y']"
        },
        {
            "cell_type": "code",
            "execution_count": 25,
            "metadata": {},
            "outputs": [
                {
                    "data": {
                        "text/html": "<div>\n<style scoped>\n    .dataframe tbody tr th:only-of-type {\n        vertical-align: middle;\n    }\n\n    .dataframe tbody tr th {\n        vertical-align: top;\n    }\n\n    .dataframe thead th {\n        text-align: right;\n    }\n</style>\n<table border=\"1\" class=\"dataframe\">\n  <thead>\n    <tr style=\"text-align: right;\">\n      <th></th>\n      <th>PostalCode</th>\n      <th>Borough</th>\n      <th>Neighborhood</th>\n      <th>Latitude</th>\n      <th>Longitude</th>\n    </tr>\n  </thead>\n  <tbody>\n    <tr>\n      <th>0</th>\n      <td>M1B</td>\n      <td>Scarborough</td>\n      <td>Malvern, Rouge</td>\n      <td>43.806686</td>\n      <td>-79.194353</td>\n    </tr>\n    <tr>\n      <th>1</th>\n      <td>M1C</td>\n      <td>Scarborough</td>\n      <td>Rouge Hill, Port Union, Highland Creek</td>\n      <td>43.784535</td>\n      <td>-79.160497</td>\n    </tr>\n    <tr>\n      <th>2</th>\n      <td>M1E</td>\n      <td>Scarborough</td>\n      <td>Guildwood, Morningside, West Hill</td>\n      <td>43.763573</td>\n      <td>-79.188711</td>\n    </tr>\n    <tr>\n      <th>3</th>\n      <td>M1G</td>\n      <td>Scarborough</td>\n      <td>Woburn</td>\n      <td>43.770992</td>\n      <td>-79.216917</td>\n    </tr>\n    <tr>\n      <th>4</th>\n      <td>M1H</td>\n      <td>Scarborough</td>\n      <td>Cedarbrae</td>\n      <td>43.773136</td>\n      <td>-79.239476</td>\n    </tr>\n  </tbody>\n</table>\n</div>",
                        "text/plain": "  PostalCode      Borough                            Neighborhood   Latitude  \\\n0        M1B  Scarborough                          Malvern, Rouge  43.806686   \n1        M1C  Scarborough  Rouge Hill, Port Union, Highland Creek  43.784535   \n2        M1E  Scarborough       Guildwood, Morningside, West Hill  43.763573   \n3        M1G  Scarborough                                  Woburn  43.770992   \n4        M1H  Scarborough                               Cedarbrae  43.773136   \n\n   Longitude  \n0 -79.194353  \n1 -79.160497  \n2 -79.188711  \n3 -79.216917  \n4 -79.239476  "
                    },
                    "execution_count": 25,
                    "metadata": {},
                    "output_type": "execute_result"
                }
            ],
            "source": "#display the first 10 column of the dataframe with latitude and longitude\nTorontoG.head()"
        },
        {
            "cell_type": "code",
            "execution_count": 26,
            "metadata": {},
            "outputs": [
                {
                    "data": {
                        "text/html": "<div>\n<style scoped>\n    .dataframe tbody tr th:only-of-type {\n        vertical-align: middle;\n    }\n\n    .dataframe tbody tr th {\n        vertical-align: top;\n    }\n\n    .dataframe thead th {\n        text-align: right;\n    }\n</style>\n<table border=\"1\" class=\"dataframe\">\n  <thead>\n    <tr style=\"text-align: right;\">\n      <th></th>\n      <th>PostalCode</th>\n      <th>Borough</th>\n      <th>Neighborhood</th>\n      <th>Latitude</th>\n      <th>Longitude</th>\n    </tr>\n  </thead>\n  <tbody>\n    <tr>\n      <th>98</th>\n      <td>M9N</td>\n      <td>York</td>\n      <td>Weston</td>\n      <td>43.706876</td>\n      <td>-79.518188</td>\n    </tr>\n    <tr>\n      <th>99</th>\n      <td>M9P</td>\n      <td>Etobicoke</td>\n      <td>Westmount</td>\n      <td>43.696319</td>\n      <td>-79.532242</td>\n    </tr>\n    <tr>\n      <th>100</th>\n      <td>M9R</td>\n      <td>Etobicoke</td>\n      <td>Kingsview Village, St. Phillips, Martin Grove ...</td>\n      <td>43.688905</td>\n      <td>-79.554724</td>\n    </tr>\n    <tr>\n      <th>101</th>\n      <td>M9V</td>\n      <td>Etobicoke</td>\n      <td>South Steeles, Silverstone, Humbergate, Jamest...</td>\n      <td>43.739416</td>\n      <td>-79.588437</td>\n    </tr>\n    <tr>\n      <th>102</th>\n      <td>M9W</td>\n      <td>Etobicoke</td>\n      <td>Northwest, West Humber - Clairville</td>\n      <td>43.706748</td>\n      <td>-79.594054</td>\n    </tr>\n  </tbody>\n</table>\n</div>",
                        "text/plain": "    PostalCode    Borough                                       Neighborhood  \\\n98         M9N       York                                             Weston   \n99         M9P  Etobicoke                                          Westmount   \n100        M9R  Etobicoke  Kingsview Village, St. Phillips, Martin Grove ...   \n101        M9V  Etobicoke  South Steeles, Silverstone, Humbergate, Jamest...   \n102        M9W  Etobicoke                Northwest, West Humber - Clairville   \n\n      Latitude  Longitude  \n98   43.706876 -79.518188  \n99   43.696319 -79.532242  \n100  43.688905 -79.554724  \n101  43.739416 -79.588437  \n102  43.706748 -79.594054  "
                    },
                    "execution_count": 26,
                    "metadata": {},
                    "output_type": "execute_result"
                }
            ],
            "source": "#display the last 10 columns of the dataframe with latitude and longitude\nTorontoG.tail()"
        },
        {
            "cell_type": "code",
            "execution_count": 27,
            "metadata": {},
            "outputs": [
                {
                    "name": "stdout",
                    "output_type": "stream",
                    "text": "The dataframe has 10 boroughs and 103 neighborhoods.\n"
                }
            ],
            "source": "print('The dataframe has {} boroughs and {} neighborhoods.'.format(len(TorontoG['Borough'].unique()),TorontoG.shape[0]))"
        },
        {
            "cell_type": "markdown",
            "metadata": {},
            "source": "#### Taking a look at the data by Borough"
        },
        {
            "cell_type": "code",
            "execution_count": 28,
            "metadata": {},
            "outputs": [
                {
                    "name": "stdout",
                    "output_type": "stream",
                    "text": "(39, 5)\n"
                }
            ],
            "source": "#indexing by borough\nToronto_new = TorontoG[TorontoG['Borough'].str.contains(\"Toronto\")].reset_index(drop=True)\n\nprint(Toronto_new.shape)"
        },
        {
            "cell_type": "code",
            "execution_count": 29,
            "metadata": {},
            "outputs": [
                {
                    "data": {
                        "text/html": "<div>\n<style scoped>\n    .dataframe tbody tr th:only-of-type {\n        vertical-align: middle;\n    }\n\n    .dataframe tbody tr th {\n        vertical-align: top;\n    }\n\n    .dataframe thead th {\n        text-align: right;\n    }\n</style>\n<table border=\"1\" class=\"dataframe\">\n  <thead>\n    <tr style=\"text-align: right;\">\n      <th></th>\n      <th>PostalCode</th>\n      <th>Borough</th>\n      <th>Neighborhood</th>\n      <th>Latitude</th>\n      <th>Longitude</th>\n    </tr>\n  </thead>\n  <tbody>\n    <tr>\n      <th>0</th>\n      <td>M4E</td>\n      <td>East Toronto</td>\n      <td>The Beaches</td>\n      <td>43.676357</td>\n      <td>-79.293031</td>\n    </tr>\n    <tr>\n      <th>1</th>\n      <td>M4K</td>\n      <td>East Toronto</td>\n      <td>The Danforth West, Riverdale</td>\n      <td>43.679557</td>\n      <td>-79.352188</td>\n    </tr>\n    <tr>\n      <th>2</th>\n      <td>M4L</td>\n      <td>East Toronto</td>\n      <td>India Bazaar, The Beaches West</td>\n      <td>43.668999</td>\n      <td>-79.315572</td>\n    </tr>\n    <tr>\n      <th>3</th>\n      <td>M4M</td>\n      <td>East Toronto</td>\n      <td>Studio District</td>\n      <td>43.659526</td>\n      <td>-79.340923</td>\n    </tr>\n    <tr>\n      <th>4</th>\n      <td>M4N</td>\n      <td>Central Toronto</td>\n      <td>Lawrence Park</td>\n      <td>43.728020</td>\n      <td>-79.388790</td>\n    </tr>\n  </tbody>\n</table>\n</div>",
                        "text/plain": "  PostalCode          Borough                    Neighborhood   Latitude  \\\n0        M4E     East Toronto                     The Beaches  43.676357   \n1        M4K     East Toronto    The Danforth West, Riverdale  43.679557   \n2        M4L     East Toronto  India Bazaar, The Beaches West  43.668999   \n3        M4M     East Toronto                 Studio District  43.659526   \n4        M4N  Central Toronto                   Lawrence Park  43.728020   \n\n   Longitude  \n0 -79.293031  \n1 -79.352188  \n2 -79.315572  \n3 -79.340923  \n4 -79.388790  "
                    },
                    "execution_count": 29,
                    "metadata": {},
                    "output_type": "execute_result"
                }
            ],
            "source": "#display the first 5 columns of the dataframe\nToronto_new.head()"
        },
        {
            "cell_type": "markdown",
            "metadata": {},
            "source": "#### A look at Toronto Canada - Map"
        },
        {
            "cell_type": "code",
            "execution_count": 30,
            "metadata": {},
            "outputs": [],
            "source": "#import geographical coordinates\nTorontoGeo = pd.read_csv(\"https://cocl.us/Geospatial_data\")"
        },
        {
            "cell_type": "code",
            "execution_count": 32,
            "metadata": {},
            "outputs": [
                {
                    "name": "stdout",
                    "output_type": "stream",
                    "text": "Imported!\n"
                }
            ],
            "source": "import folium\n\nprint(\"Imported!\")"
        },
        {
            "cell_type": "code",
            "execution_count": 33,
            "metadata": {},
            "outputs": [
                {
                    "data": {
                        "text/html": "<div style=\"width:100%;\"><div style=\"position:relative;width:100%;height:0;padding-bottom:60%;\"><span style=\"color:#565656\">Make this Notebook Trusted to load map: File -> Trust Notebook</span><iframe src=\"about:blank\" style=\"position:absolute;width:100%;height:100%;left:0;top:0;border:none !important;\" data-html=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 onload=\"this.contentDocument.open();this.contentDocument.write(atob(this.getAttribute('data-html')));this.contentDocument.close();\" allowfullscreen webkitallowfullscreen mozallowfullscreen></iframe></div></div>",
                        "text/plain": "<folium.folium.Map at 0x7f56bc3069d0>"
                    },
                    "execution_count": 33,
                    "metadata": {},
                    "output_type": "execute_result"
                }
            ],
            "source": "#dispaly a map of Toronto Canada\nToronto_latitude = 43.653963\nToronto_longitude = -79.387207\nToronto_map = folium.Map(location=[Toronto_latitude, Toronto_longitude], zoom_start=12)\nToronto_map"
        },
        {
            "cell_type": "markdown",
            "metadata": {},
            "source": "# Module 3: Exploring and Clustering"
        },
        {
            "cell_type": "markdown",
            "metadata": {},
            "source": "#### Explore and cluster the neighborhoods in Toronto"
        },
        {
            "cell_type": "code",
            "execution_count": 34,
            "metadata": {},
            "outputs": [
                {
                    "name": "stdout",
                    "output_type": "stream",
                    "text": "Imported!\n"
                }
            ],
            "source": "#import libraries\nimport pandas as pd\nimport numpy as np\nimport seaborn as sns\nimport requests\nimport json\nimport folium\nimport matplotlib.cm as cm\nimport matplotlib.colors as colors\n\nfrom geopy.geocoders import Nominatim\nfrom pandas.io.json import json_normalize\nfrom sklearn.cluster import KMeans\nprint(\"Imported!\")"
        },
        {
            "cell_type": "code",
            "execution_count": 35,
            "metadata": {},
            "outputs": [],
            "source": "#Foursquare identification\nCLIENT_ID = 'A4WJOKVIDMBDFL0TKINOHAS2AYRGVT5DUNVZDXJEZHQEAOUP'\nCLIENT_SECRET = 'QEHG0UREZWAFWFQHUG05ECBXZAV2JOKO1FMIS25A5BCRSUGM'\nVERSION = '20180605'"
        },
        {
            "cell_type": "markdown",
            "metadata": {},
            "source": "#### Exploring venues by Postal Code"
        },
        {
            "cell_type": "code",
            "execution_count": 36,
            "metadata": {},
            "outputs": [
                {
                    "data": {
                        "text/html": "<div>\n<style scoped>\n    .dataframe tbody tr th:only-of-type {\n        vertical-align: middle;\n    }\n\n    .dataframe tbody tr th {\n        vertical-align: top;\n    }\n\n    .dataframe thead th {\n        text-align: right;\n    }\n</style>\n<table border=\"1\" class=\"dataframe\">\n  <thead>\n    <tr style=\"text-align: right;\">\n      <th></th>\n      <th>PostalCode</th>\n      <th>Borough</th>\n      <th>Neighborhood</th>\n      <th>Latitude</th>\n      <th>Longitude</th>\n    </tr>\n  </thead>\n  <tbody>\n    <tr>\n      <th>94</th>\n      <td>M9B</td>\n      <td>Etobicoke</td>\n      <td>West Deane Park, Princess Gardens, Martin Grov...</td>\n      <td>43.650943</td>\n      <td>-79.554724</td>\n    </tr>\n  </tbody>\n</table>\n</div>",
                        "text/plain": "   PostalCode    Borough                                       Neighborhood  \\\n94        M9B  Etobicoke  West Deane Park, Princess Gardens, Martin Grov...   \n\n     Latitude  Longitude  \n94  43.650943 -79.554724  "
                    },
                    "execution_count": 36,
                    "metadata": {},
                    "output_type": "execute_result"
                }
            ],
            "source": "#sample display by postalcode\nTorontoG.loc[TorontoG['PostalCode'] == 'M9B']"
        },
        {
            "cell_type": "code",
            "execution_count": 37,
            "metadata": {},
            "outputs": [],
            "source": "LIMIT = 25 \ndef getNearbyVenues(names, latitudes, longitudes, radius=500):\n    \n    venues_list=[]\n    for name, lat, lng in zip(names, latitudes, longitudes):\n        print(name)\n        \n        url = 'https://api.foursquare.com/v2/venues/explore?&client_id={}&client_secret={}&v={}&ll={},{}&radius={}&limit={}'.format(\n            CLIENT_ID, CLIENT_SECRET, VERSION, lat, lng, radius, LIMIT)\n        \n        results = requests.get(url).json()[\"response\"]['groups'][0]['items']\n        \n        venues_list.append([( name, lat, lng, v['venue']['name'], v['venue']['location']['lat'], v['venue']['location']['lng'], v['venue']['categories'][0]['name']) for v in results])\n\n    nearby_venues = pd.DataFrame([item for venue_list in venues_list for item in venue_list])\n    nearby_venues.columns = ['Neighborhood', 'Neighborhood Latitude', 'Neighborhood Longitude', 'Venue', 'Venue Latitude', 'Venue Longitude', 'Venue Category']\n    \n    return(nearby_venues)\n"
        },
        {
            "cell_type": "code",
            "execution_count": 38,
            "metadata": {},
            "outputs": [
                {
                    "name": "stdout",
                    "output_type": "stream",
                    "text": "Malvern, Rouge\nRouge Hill, Port Union, Highland Creek\nGuildwood, Morningside, West Hill\nWoburn\nCedarbrae\nScarborough Village\nKennedy Park, Ionview, East Birchmount Park\nGolden Mile, Clairlea, Oakridge\nCliffside, Cliffcrest, Scarborough Village West\nBirch Cliff, Cliffside West\nDorset Park, Wexford Heights, Scarborough Town Centre\nWexford, Maryvale\nAgincourt\nClarks Corners, Tam O'Shanter, Sullivan\nMilliken, Agincourt North, Steeles East, L'Amoreaux East\nSteeles West, L'Amoreaux West\nUpper Rouge\nHillcrest Village\nFairview, Henry Farm, Oriole\nBayview Village\nYork Mills, Silver Hills\nWillowdale, Newtonbrook\nWillowdale, Willowdale East\nYork Mills West\nWillowdale, Willowdale West\nParkwoods\nDon Mills\nDon Mills\nBathurst Manor, Wilson Heights, Downsview North\nNorthwood Park, York University\nDownsview\nDownsview\nDownsview\nDownsview\nVictoria Village\nParkview Hill, Woodbine Gardens\nWoodbine Heights\nThe Beaches\nLeaside\nThorncliffe Park\nEast Toronto, Broadview North (Old East York)\nThe Danforth West, Riverdale\nIndia Bazaar, The Beaches West\nStudio District\nLawrence Park\nDavisville North\nNorth Toronto West,  Lawrence Park\nDavisville\nMoore Park, Summerhill East\nSummerhill West, Rathnelly, South Hill, Forest Hill SE, Deer Park\nRosedale\nSt. James Town, Cabbagetown\nChurch and Wellesley\nRegent Park, Harbourfront\nGarden District, Ryerson\nSt. James Town\nBerczy Park\nCentral Bay Street\nRichmond, Adelaide, King\nHarbourfront East, Union Station, Toronto Islands\nToronto Dominion Centre, Design Exchange\nCommerce Court, Victoria Hotel\nBedford Park, Lawrence Manor East\nRoselawn\nForest Hill North & West, Forest Hill Road Park\nThe Annex, North Midtown, Yorkville\nUniversity of Toronto, Harbord\nKensington Market, Chinatown, Grange Park\nCN Tower, King and Spadina, Railway Lands, Harbourfront West, Bathurst Quay, South Niagara, Island airport\nStn A PO Boxes\nFirst Canadian Place, Underground city\nLawrence Manor, Lawrence Heights\nGlencairn\nHumewood-Cedarvale\nCaledonia-Fairbanks\nChristie\nDufferin, Dovercourt Village\nLittle Portugal, Trinity\nBrockton, Parkdale Village, Exhibition Place\nNorth Park, Maple Leaf Park, Upwood Park\nDel Ray, Mount Dennis, Keelsdale and Silverthorn\nRunnymede, The Junction North\nHigh Park, The Junction South\nParkdale, Roncesvalles\nRunnymede, Swansea\nQueen's Park, Ontario Provincial Government\nCanada Post Gateway Processing Centre\nBusiness reply mail Processing Centre, South Central Letter Processing Plant Toronto\nNew Toronto, Mimico South, Humber Bay Shores\nAlderwood, Long Branch\nThe Kingsway, Montgomery Road, Old Mill North\nOld Mill South, King's Mill Park, Sunnylea, Humber Bay, Mimico NE, The Queensway East, Royal York South East, Kingsway Park South East\nMimico NW, The Queensway West, South of Bloor, Kingsway Park South West, Royal York South West\nIslington Avenue, Humber Valley Village\nWest Deane Park, Princess Gardens, Martin Grove, Islington, Cloverdale\nEringate, Bloordale Gardens, Old Burnhamthorpe, Markland Wood\nHumber Summit\nHumberlea, Emery\nWeston\nWestmount\nKingsview Village, St. Phillips, Martin Grove Gardens, Richview Gardens\nSouth Steeles, Silverstone, Humbergate, Jamestown, Mount Olive, Beaumond Heights, Thistletown, Albion Gardens\nNorthwest, West Humber - Clairville\n"
                }
            ],
            "source": "#showing nearby venues\ndf = TorontoG\nTorontoG_venues = getNearbyVenues(names=df['Neighborhood'], latitudes=df['Latitude'],longitudes=df['Longitude'])"
        },
        {
            "cell_type": "code",
            "execution_count": 39,
            "metadata": {},
            "outputs": [
                {
                    "name": "stdout",
                    "output_type": "stream",
                    "text": "(1202, 7)\n"
                }
            ],
            "source": "#venues statistics\nprint(TorontoG_venues.shape)"
        },
        {
            "cell_type": "code",
            "execution_count": 40,
            "metadata": {},
            "outputs": [
                {
                    "data": {
                        "text/html": "<div>\n<style scoped>\n    .dataframe tbody tr th:only-of-type {\n        vertical-align: middle;\n    }\n\n    .dataframe tbody tr th {\n        vertical-align: top;\n    }\n\n    .dataframe thead th {\n        text-align: right;\n    }\n</style>\n<table border=\"1\" class=\"dataframe\">\n  <thead>\n    <tr style=\"text-align: right;\">\n      <th></th>\n      <th>Neighborhood</th>\n      <th>Neighborhood Latitude</th>\n      <th>Neighborhood Longitude</th>\n      <th>Venue</th>\n      <th>Venue Latitude</th>\n      <th>Venue Longitude</th>\n      <th>Venue Category</th>\n    </tr>\n  </thead>\n  <tbody>\n    <tr>\n      <th>0</th>\n      <td>Malvern, Rouge</td>\n      <td>43.806686</td>\n      <td>-79.194353</td>\n      <td>Wendy\u2019s</td>\n      <td>43.807448</td>\n      <td>-79.199056</td>\n      <td>Fast Food Restaurant</td>\n    </tr>\n    <tr>\n      <th>1</th>\n      <td>Rouge Hill, Port Union, Highland Creek</td>\n      <td>43.784535</td>\n      <td>-79.160497</td>\n      <td>Royal Canadian Legion</td>\n      <td>43.782533</td>\n      <td>-79.163085</td>\n      <td>Bar</td>\n    </tr>\n    <tr>\n      <th>2</th>\n      <td>Rouge Hill, Port Union, Highland Creek</td>\n      <td>43.784535</td>\n      <td>-79.160497</td>\n      <td>SEBS Engineering Inc. (Sustainable Energy and ...</td>\n      <td>43.782371</td>\n      <td>-79.156820</td>\n      <td>Construction &amp; Landscaping</td>\n    </tr>\n    <tr>\n      <th>3</th>\n      <td>Guildwood, Morningside, West Hill</td>\n      <td>43.763573</td>\n      <td>-79.188711</td>\n      <td>RBC Royal Bank</td>\n      <td>43.766790</td>\n      <td>-79.191151</td>\n      <td>Bank</td>\n    </tr>\n    <tr>\n      <th>4</th>\n      <td>Guildwood, Morningside, West Hill</td>\n      <td>43.763573</td>\n      <td>-79.188711</td>\n      <td>G &amp; G Electronics</td>\n      <td>43.765309</td>\n      <td>-79.191537</td>\n      <td>Electronics Store</td>\n    </tr>\n  </tbody>\n</table>\n</div>",
                        "text/plain": "                             Neighborhood  Neighborhood Latitude  \\\n0                          Malvern, Rouge              43.806686   \n1  Rouge Hill, Port Union, Highland Creek              43.784535   \n2  Rouge Hill, Port Union, Highland Creek              43.784535   \n3       Guildwood, Morningside, West Hill              43.763573   \n4       Guildwood, Morningside, West Hill              43.763573   \n\n   Neighborhood Longitude                                              Venue  \\\n0              -79.194353                                            Wendy\u2019s   \n1              -79.160497                              Royal Canadian Legion   \n2              -79.160497  SEBS Engineering Inc. (Sustainable Energy and ...   \n3              -79.188711                                     RBC Royal Bank   \n4              -79.188711                                  G & G Electronics   \n\n   Venue Latitude  Venue Longitude              Venue Category  \n0       43.807448       -79.199056        Fast Food Restaurant  \n1       43.782533       -79.163085                         Bar  \n2       43.782371       -79.156820  Construction & Landscaping  \n3       43.766790       -79.191151                        Bank  \n4       43.765309       -79.191537           Electronics Store  "
                    },
                    "execution_count": 40,
                    "metadata": {},
                    "output_type": "execute_result"
                }
            ],
            "source": "#display the first five rows of venues by neighborhood\nTorontoG_venues.head()"
        },
        {
            "cell_type": "markdown",
            "metadata": {},
            "source": "#### Exploring venues by Borough"
        },
        {
            "cell_type": "code",
            "execution_count": 41,
            "metadata": {},
            "outputs": [
                {
                    "data": {
                        "text/html": "<div>\n<style scoped>\n    .dataframe tbody tr th:only-of-type {\n        vertical-align: middle;\n    }\n\n    .dataframe tbody tr th {\n        vertical-align: top;\n    }\n\n    .dataframe thead th {\n        text-align: right;\n    }\n</style>\n<table border=\"1\" class=\"dataframe\">\n  <thead>\n    <tr style=\"text-align: right;\">\n      <th></th>\n      <th>PostalCode</th>\n      <th>Borough</th>\n      <th>Neighborhood</th>\n      <th>Latitude</th>\n      <th>Longitude</th>\n    </tr>\n  </thead>\n  <tbody>\n    <tr>\n      <th>0</th>\n      <td>M4E</td>\n      <td>East Toronto</td>\n      <td>The Beaches</td>\n      <td>43.676357</td>\n      <td>-79.293031</td>\n    </tr>\n    <tr>\n      <th>1</th>\n      <td>M4K</td>\n      <td>East Toronto</td>\n      <td>The Danforth West, Riverdale</td>\n      <td>43.679557</td>\n      <td>-79.352188</td>\n    </tr>\n    <tr>\n      <th>2</th>\n      <td>M4L</td>\n      <td>East Toronto</td>\n      <td>India Bazaar, The Beaches West</td>\n      <td>43.668999</td>\n      <td>-79.315572</td>\n    </tr>\n    <tr>\n      <th>3</th>\n      <td>M4M</td>\n      <td>East Toronto</td>\n      <td>Studio District</td>\n      <td>43.659526</td>\n      <td>-79.340923</td>\n    </tr>\n    <tr>\n      <th>4</th>\n      <td>M4N</td>\n      <td>Central Toronto</td>\n      <td>Lawrence Park</td>\n      <td>43.728020</td>\n      <td>-79.388790</td>\n    </tr>\n  </tbody>\n</table>\n</div>",
                        "text/plain": "  PostalCode          Borough                    Neighborhood   Latitude  \\\n0        M4E     East Toronto                     The Beaches  43.676357   \n1        M4K     East Toronto    The Danforth West, Riverdale  43.679557   \n2        M4L     East Toronto  India Bazaar, The Beaches West  43.668999   \n3        M4M     East Toronto                 Studio District  43.659526   \n4        M4N  Central Toronto                   Lawrence Park  43.728020   \n\n   Longitude  \n0 -79.293031  \n1 -79.352188  \n2 -79.315572  \n3 -79.340923  \n4 -79.388790  "
                    },
                    "execution_count": 41,
                    "metadata": {},
                    "output_type": "execute_result"
                }
            ],
            "source": "#display the first five rows\ndf = Toronto_new\nToronto_new.head()"
        },
        {
            "cell_type": "code",
            "execution_count": 42,
            "metadata": {},
            "outputs": [],
            "source": "LIMIT = 25 \ndef getNearbyVenues(names, latitudes, longitudes, radius=500):\n    \n    venues_list=[]\n    for name, lat, lng in zip(names, latitudes, longitudes):\n        print(name)\n        \n        url = 'https://api.foursquare.com/v2/venues/explore?&client_id={}&client_secret={}&v={}&ll={},{}&radius={}&limit={}'.format(\n            CLIENT_ID, CLIENT_SECRET, VERSION, lat, lng, radius, LIMIT)\n        \n        results = requests.get(url).json()[\"response\"]['groups'][0]['items']\n        \n        venues_list.append([( name, lat, lng, v['venue']['name'], v['venue']['location']['lat'], v['venue']['location']['lng'], v['venue']['categories'][0]['name']) for v in results])\n\n    nearby_venues = pd.DataFrame([item for venue_list in venues_list for item in venue_list])\n    nearby_venues.columns = ['Neighborhood', 'Neighborhood Latitude', 'Neighborhood Longitude', 'Venue', 'Venue Latitude', 'Venue Longitude', 'Venue Category']\n    \n    return(nearby_venues)"
        },
        {
            "cell_type": "code",
            "execution_count": 43,
            "metadata": {},
            "outputs": [
                {
                    "name": "stdout",
                    "output_type": "stream",
                    "text": "The Beaches\nThe Danforth West, Riverdale\nIndia Bazaar, The Beaches West\nStudio District\nLawrence Park\nDavisville North\nNorth Toronto West,  Lawrence Park\nDavisville\nMoore Park, Summerhill East\nSummerhill West, Rathnelly, South Hill, Forest Hill SE, Deer Park\nRosedale\nSt. James Town, Cabbagetown\nChurch and Wellesley\nRegent Park, Harbourfront\nGarden District, Ryerson\nSt. James Town\nBerczy Park\nCentral Bay Street\nRichmond, Adelaide, King\nHarbourfront East, Union Station, Toronto Islands\nToronto Dominion Centre, Design Exchange\nCommerce Court, Victoria Hotel\nRoselawn\nForest Hill North & West, Forest Hill Road Park\nThe Annex, North Midtown, Yorkville\nUniversity of Toronto, Harbord\nKensington Market, Chinatown, Grange Park\nCN Tower, King and Spadina, Railway Lands, Harbourfront West, Bathurst Quay, South Niagara, Island airport\nStn A PO Boxes\nFirst Canadian Place, Underground city\nChristie\nDufferin, Dovercourt Village\nLittle Portugal, Trinity\nBrockton, Parkdale Village, Exhibition Place\nHigh Park, The Junction South\nParkdale, Roncesvalles\nRunnymede, Swansea\nQueen's Park, Ontario Provincial Government\nBusiness reply mail Processing Centre, South Central Letter Processing Plant Toronto\n"
                }
            ],
            "source": "df = Toronto_new\nToronto_new_venues = getNearbyVenues(names=df['Neighborhood'], latitudes=df['Latitude'],longitudes=df['Longitude'])"
        },
        {
            "cell_type": "code",
            "execution_count": 44,
            "metadata": {},
            "outputs": [
                {
                    "name": "stdout",
                    "output_type": "stream",
                    "text": "(746, 7)\n"
                }
            ],
            "source": "#display statistics\nprint(Toronto_new_venues.shape)"
        },
        {
            "cell_type": "code",
            "execution_count": 45,
            "metadata": {},
            "outputs": [
                {
                    "data": {
                        "text/html": "<div>\n<style scoped>\n    .dataframe tbody tr th:only-of-type {\n        vertical-align: middle;\n    }\n\n    .dataframe tbody tr th {\n        vertical-align: top;\n    }\n\n    .dataframe thead th {\n        text-align: right;\n    }\n</style>\n<table border=\"1\" class=\"dataframe\">\n  <thead>\n    <tr style=\"text-align: right;\">\n      <th></th>\n      <th>Neighborhood</th>\n      <th>Neighborhood Latitude</th>\n      <th>Neighborhood Longitude</th>\n      <th>Venue</th>\n      <th>Venue Latitude</th>\n      <th>Venue Longitude</th>\n      <th>Venue Category</th>\n    </tr>\n  </thead>\n  <tbody>\n    <tr>\n      <th>0</th>\n      <td>The Beaches</td>\n      <td>43.676357</td>\n      <td>-79.293031</td>\n      <td>Glen Manor Ravine</td>\n      <td>43.676821</td>\n      <td>-79.293942</td>\n      <td>Trail</td>\n    </tr>\n    <tr>\n      <th>1</th>\n      <td>The Beaches</td>\n      <td>43.676357</td>\n      <td>-79.293031</td>\n      <td>The Big Carrot Natural Food Market</td>\n      <td>43.678879</td>\n      <td>-79.297734</td>\n      <td>Health Food Store</td>\n    </tr>\n    <tr>\n      <th>2</th>\n      <td>The Beaches</td>\n      <td>43.676357</td>\n      <td>-79.293031</td>\n      <td>Grover Pub and Grub</td>\n      <td>43.679181</td>\n      <td>-79.297215</td>\n      <td>Pub</td>\n    </tr>\n    <tr>\n      <th>3</th>\n      <td>The Beaches</td>\n      <td>43.676357</td>\n      <td>-79.293031</td>\n      <td>Upper Beaches</td>\n      <td>43.680563</td>\n      <td>-79.292869</td>\n      <td>Neighborhood</td>\n    </tr>\n    <tr>\n      <th>4</th>\n      <td>The Danforth West, Riverdale</td>\n      <td>43.679557</td>\n      <td>-79.352188</td>\n      <td>Pantheon</td>\n      <td>43.677621</td>\n      <td>-79.351434</td>\n      <td>Greek Restaurant</td>\n    </tr>\n  </tbody>\n</table>\n</div>",
                        "text/plain": "                   Neighborhood  Neighborhood Latitude  \\\n0                   The Beaches              43.676357   \n1                   The Beaches              43.676357   \n2                   The Beaches              43.676357   \n3                   The Beaches              43.676357   \n4  The Danforth West, Riverdale              43.679557   \n\n   Neighborhood Longitude                               Venue  Venue Latitude  \\\n0              -79.293031                   Glen Manor Ravine       43.676821   \n1              -79.293031  The Big Carrot Natural Food Market       43.678879   \n2              -79.293031                 Grover Pub and Grub       43.679181   \n3              -79.293031                       Upper Beaches       43.680563   \n4              -79.352188                            Pantheon       43.677621   \n\n   Venue Longitude     Venue Category  \n0       -79.293942              Trail  \n1       -79.297734  Health Food Store  \n2       -79.297215                Pub  \n3       -79.292869       Neighborhood  \n4       -79.351434   Greek Restaurant  "
                    },
                    "execution_count": 45,
                    "metadata": {},
                    "output_type": "execute_result"
                }
            ],
            "source": "#display venues by borough\nToronto_new_venues.head()"
        },
        {
            "cell_type": "markdown",
            "metadata": {},
            "source": "#### The top visited venues in different neighboords"
        },
        {
            "cell_type": "code",
            "execution_count": 46,
            "metadata": {},
            "outputs": [
                {
                    "name": "stdout",
                    "output_type": "stream",
                    "text": "East Toronto\nEast Toronto\nEast Toronto\nEast Toronto\nCentral Toronto\nCentral Toronto\nCentral Toronto\nCentral Toronto\nCentral Toronto\nCentral Toronto\nDowntown Toronto\nDowntown Toronto\nDowntown Toronto\nDowntown Toronto\nDowntown Toronto\nDowntown Toronto\nDowntown Toronto\nDowntown Toronto\nDowntown Toronto\nDowntown Toronto\nDowntown Toronto\nDowntown Toronto\nCentral Toronto\nCentral Toronto\nCentral Toronto\nDowntown Toronto\nDowntown Toronto\nDowntown Toronto\nDowntown Toronto\nDowntown Toronto\nDowntown Toronto\nWest Toronto\nWest Toronto\nWest Toronto\nWest Toronto\nWest Toronto\nWest Toronto\nDowntown Toronto\nEast Toronto\n"
                }
            ],
            "source": "#top visited venues by borough\nvenues = getNearbyVenues(names=Toronto_new['Borough'],latitudes=Toronto_new['Latitude'],longitudes=Toronto_new['Longitude'])"
        },
        {
            "cell_type": "code",
            "execution_count": 48,
            "metadata": {},
            "outputs": [
                {
                    "data": {
                        "text/html": "<div>\n<style scoped>\n    .dataframe tbody tr th:only-of-type {\n        vertical-align: middle;\n    }\n\n    .dataframe tbody tr th {\n        vertical-align: top;\n    }\n\n    .dataframe thead th {\n        text-align: right;\n    }\n</style>\n<table border=\"1\" class=\"dataframe\">\n  <thead>\n    <tr style=\"text-align: right;\">\n      <th></th>\n      <th>Neighborhood Latitude</th>\n      <th>Neighborhood Longitude</th>\n      <th>Venue</th>\n      <th>Venue Latitude</th>\n      <th>Venue Longitude</th>\n      <th>Venue Category</th>\n    </tr>\n    <tr>\n      <th>Neighborhood</th>\n      <th></th>\n      <th></th>\n      <th></th>\n      <th></th>\n      <th></th>\n      <th></th>\n    </tr>\n  </thead>\n  <tbody>\n    <tr>\n      <th>Central Toronto</th>\n      <td>96</td>\n      <td>96</td>\n      <td>96</td>\n      <td>96</td>\n      <td>96</td>\n      <td>96</td>\n    </tr>\n    <tr>\n      <th>Downtown Toronto</th>\n      <td>436</td>\n      <td>436</td>\n      <td>436</td>\n      <td>436</td>\n      <td>436</td>\n      <td>436</td>\n    </tr>\n    <tr>\n      <th>East Toronto</th>\n      <td>89</td>\n      <td>89</td>\n      <td>89</td>\n      <td>89</td>\n      <td>89</td>\n      <td>89</td>\n    </tr>\n    <tr>\n      <th>West Toronto</th>\n      <td>125</td>\n      <td>125</td>\n      <td>125</td>\n      <td>125</td>\n      <td>125</td>\n      <td>125</td>\n    </tr>\n  </tbody>\n</table>\n</div>",
                        "text/plain": "                  Neighborhood Latitude  Neighborhood Longitude  Venue  \\\nNeighborhood                                                             \nCentral Toronto                      96                      96     96   \nDowntown Toronto                    436                     436    436   \nEast Toronto                         89                      89     89   \nWest Toronto                        125                     125    125   \n\n                  Venue Latitude  Venue Longitude  Venue Category  \nNeighborhood                                                       \nCentral Toronto               96               96              96  \nDowntown Toronto             436              436             436  \nEast Toronto                  89               89              89  \nWest Toronto                 125              125             125  "
                    },
                    "execution_count": 48,
                    "metadata": {},
                    "output_type": "execute_result"
                }
            ],
            "source": "#venues statistics\nvenues.groupby('Neighborhood').count()"
        },
        {
            "cell_type": "markdown",
            "metadata": {},
            "source": "####  A look at the top 5 most common venues"
        },
        {
            "cell_type": "code",
            "execution_count": 49,
            "metadata": {},
            "outputs": [],
            "source": "#one hot encoding\nonehot = pd.get_dummies(venues[['Venue Category']], prefix=\"\", prefix_sep=\"\")\n\n# add neighborhood column back to dataframe\nonehot['Neighborhood'] = venues['Neighborhood']"
        },
        {
            "cell_type": "code",
            "execution_count": 50,
            "metadata": {},
            "outputs": [],
            "source": "grouped = onehot.groupby('Neighborhood').mean().reset_index()"
        },
        {
            "cell_type": "code",
            "execution_count": 51,
            "metadata": {},
            "outputs": [
                {
                    "name": "stdout",
                    "output_type": "stream",
                    "text": "----Central Toronto----\n              venue  freq\n0       Coffee Shop  0.08\n1              Park  0.06\n2    Sandwich Place  0.05\n3              Caf\u00e9  0.05\n4  Sushi Restaurant  0.04\n\n\n----Downtown Toronto----\n         venue  freq\n0         Caf\u00e9  0.08\n1  Coffee Shop  0.08\n2   Restaurant  0.04\n3         Park  0.03\n4     Beer Bar  0.03\n\n\n----East Toronto----\n              venue  freq\n0  Greek Restaurant  0.08\n1              Park  0.04\n2       Coffee Shop  0.04\n3           Brewery  0.04\n4    Ice Cream Shop  0.04\n\n\n----West Toronto----\n                venue  freq\n0                 Bar  0.07\n1                Caf\u00e9  0.06\n2         Coffee Shop  0.04\n3  Italian Restaurant  0.04\n4              Bakery  0.03\n\n\n"
                }
            ],
            "source": "num_top_venues = 5\n\nfor hood in grouped['Neighborhood']:\n    print(\"----\"+hood+\"----\")\n    temp = grouped[grouped['Neighborhood'] == hood].T.reset_index()\n    temp.columns = ['venue','freq']\n    temp = temp.iloc[1:]\n    temp['freq'] = temp['freq'].astype(float)\n    temp = temp.round({'freq': 2})\n    print(temp.sort_values('freq', ascending=False).reset_index(drop=True).head(num_top_venues))\n    print('\\n')"
        },
        {
            "cell_type": "code",
            "execution_count": 52,
            "metadata": {},
            "outputs": [],
            "source": "def return_most_common_venues(row, num_top_venues):\n    row_categories = row.iloc[1:]\n    row_categories_sorted = row_categories.sort_values(ascending=False)\n    \n    return row_categories_sorted.index.values[0:num_top_venues]\n"
        },
        {
            "cell_type": "code",
            "execution_count": 53,
            "metadata": {},
            "outputs": [
                {
                    "data": {
                        "text/html": "<div>\n<style scoped>\n    .dataframe tbody tr th:only-of-type {\n        vertical-align: middle;\n    }\n\n    .dataframe tbody tr th {\n        vertical-align: top;\n    }\n\n    .dataframe thead th {\n        text-align: right;\n    }\n</style>\n<table border=\"1\" class=\"dataframe\">\n  <thead>\n    <tr style=\"text-align: right;\">\n      <th></th>\n      <th>Neighborhood</th>\n      <th>1st Most Common Venue</th>\n      <th>2nd Most Common Venue</th>\n      <th>3rd Most Common Venue</th>\n      <th>4th Most Common Venue</th>\n      <th>5th Most Common Venue</th>\n    </tr>\n  </thead>\n  <tbody>\n    <tr>\n      <th>0</th>\n      <td>Central Toronto</td>\n      <td>Coffee Shop</td>\n      <td>Park</td>\n      <td>Caf\u00e9</td>\n      <td>Sandwich Place</td>\n      <td>Sushi Restaurant</td>\n    </tr>\n    <tr>\n      <th>1</th>\n      <td>Downtown Toronto</td>\n      <td>Coffee Shop</td>\n      <td>Caf\u00e9</td>\n      <td>Restaurant</td>\n      <td>Park</td>\n      <td>Gastropub</td>\n    </tr>\n    <tr>\n      <th>2</th>\n      <td>East Toronto</td>\n      <td>Greek Restaurant</td>\n      <td>Brewery</td>\n      <td>Italian Restaurant</td>\n      <td>Ice Cream Shop</td>\n      <td>Coffee Shop</td>\n    </tr>\n    <tr>\n      <th>3</th>\n      <td>West Toronto</td>\n      <td>Bar</td>\n      <td>Caf\u00e9</td>\n      <td>Italian Restaurant</td>\n      <td>Coffee Shop</td>\n      <td>Bakery</td>\n    </tr>\n  </tbody>\n</table>\n</div>",
                        "text/plain": "       Neighborhood 1st Most Common Venue 2nd Most Common Venue  \\\n0   Central Toronto           Coffee Shop                  Park   \n1  Downtown Toronto           Coffee Shop                  Caf\u00e9   \n2      East Toronto      Greek Restaurant               Brewery   \n3      West Toronto                   Bar                  Caf\u00e9   \n\n  3rd Most Common Venue 4th Most Common Venue 5th Most Common Venue  \n0                  Caf\u00e9        Sandwich Place      Sushi Restaurant  \n1            Restaurant                  Park             Gastropub  \n2    Italian Restaurant        Ice Cream Shop           Coffee Shop  \n3    Italian Restaurant           Coffee Shop                Bakery  "
                    },
                    "execution_count": 53,
                    "metadata": {},
                    "output_type": "execute_result"
                }
            ],
            "source": "Num_top_venues = 2\n\nindicators = ['st', 'nd', 'rd']\n\n# create columns according to number of top venues\ncolumns = ['Neighborhood']\nfor ind in np.arange(num_top_venues):\n    try:\n        columns.append('{}{} Most Common Venue'.format(ind+1, indicators[ind]))\n    except:\n        columns.append('{}th Most Common Venue'.format(ind+1))\n\n# create a new dataframe\nneighborhoods_venues_sorted = pd.DataFrame(columns=columns)\nneighborhoods_venues_sorted['Neighborhood'] = grouped['Neighborhood']\n\nfor ind in np.arange(grouped.shape[0]):\n    neighborhoods_venues_sorted.iloc[ind, 1:] = return_most_common_venues(grouped.iloc[ind, :], num_top_venues)\n\nneighborhoods_venues_sorted\n"
        },
        {
            "cell_type": "markdown",
            "metadata": {},
            "source": "#### Cluster the neighborhoods in Toronto and visualize them"
        },
        {
            "cell_type": "code",
            "execution_count": 54,
            "metadata": {},
            "outputs": [
                {
                    "name": "stderr",
                    "output_type": "stream",
                    "text": "/opt/conda/envs/Python-3.7-main/lib/python3.7/site-packages/sklearn/utils/deprecation.py:143: FutureWarning: The sklearn.cluster.k_means_ module is  deprecated in version 0.22 and will be removed in version 0.24. The corresponding classes / functions should instead be imported from sklearn.cluster. Anything that cannot be imported from sklearn.cluster is now part of the private API.\n  warnings.warn(message, FutureWarning)\n"
                }
            ],
            "source": "from sklearn.cluster import KMeans\nimport sklearn.cluster.k_means_\nkm = KMeans(n_clusters=3, init='k-means++', max_iter=100, n_init=1, \n  verbose=True)"
        },
        {
            "cell_type": "code",
            "execution_count": 55,
            "metadata": {},
            "outputs": [
                {
                    "name": "stdout",
                    "output_type": "stream",
                    "text": "[0 3 1 2]\n4\n"
                }
            ],
            "source": "kclusters = 4\ntoronto_grouped_clustering = grouped.drop('Neighborhood', 1)\nkmeans = KMeans(n_clusters=kclusters, random_state=0).fit(toronto_grouped_clustering)\nprint(kmeans.labels_[0:10])\nprint(len(kmeans.labels_))\n"
        },
        {
            "cell_type": "code",
            "execution_count": 56,
            "metadata": {},
            "outputs": [
                {
                    "data": {
                        "text/html": "<div>\n<style scoped>\n    .dataframe tbody tr th:only-of-type {\n        vertical-align: middle;\n    }\n\n    .dataframe tbody tr th {\n        vertical-align: top;\n    }\n\n    .dataframe thead th {\n        text-align: right;\n    }\n</style>\n<table border=\"1\" class=\"dataframe\">\n  <thead>\n    <tr style=\"text-align: right;\">\n      <th></th>\n      <th>PostalCode</th>\n      <th>Borough</th>\n      <th>Neighborhood</th>\n      <th>Latitude</th>\n      <th>Longitude</th>\n    </tr>\n  </thead>\n  <tbody>\n    <tr>\n      <th>0</th>\n      <td>M4E</td>\n      <td>East Toronto</td>\n      <td>The Beaches</td>\n      <td>43.676357</td>\n      <td>-79.293031</td>\n    </tr>\n    <tr>\n      <th>1</th>\n      <td>M4K</td>\n      <td>East Toronto</td>\n      <td>The Danforth West, Riverdale</td>\n      <td>43.679557</td>\n      <td>-79.352188</td>\n    </tr>\n    <tr>\n      <th>2</th>\n      <td>M4L</td>\n      <td>East Toronto</td>\n      <td>India Bazaar, The Beaches West</td>\n      <td>43.668999</td>\n      <td>-79.315572</td>\n    </tr>\n    <tr>\n      <th>3</th>\n      <td>M4M</td>\n      <td>East Toronto</td>\n      <td>Studio District</td>\n      <td>43.659526</td>\n      <td>-79.340923</td>\n    </tr>\n    <tr>\n      <th>4</th>\n      <td>M4N</td>\n      <td>Central Toronto</td>\n      <td>Lawrence Park</td>\n      <td>43.728020</td>\n      <td>-79.388790</td>\n    </tr>\n  </tbody>\n</table>\n</div>",
                        "text/plain": "  PostalCode          Borough                    Neighborhood   Latitude  \\\n0        M4E     East Toronto                     The Beaches  43.676357   \n1        M4K     East Toronto    The Danforth West, Riverdale  43.679557   \n2        M4L     East Toronto  India Bazaar, The Beaches West  43.668999   \n3        M4M     East Toronto                 Studio District  43.659526   \n4        M4N  Central Toronto                   Lawrence Park  43.728020   \n\n   Longitude  \n0 -79.293031  \n1 -79.352188  \n2 -79.315572  \n3 -79.340923  \n4 -79.388790  "
                    },
                    "execution_count": 56,
                    "metadata": {},
                    "output_type": "execute_result"
                }
            ],
            "source": "df.head()"
        },
        {
            "cell_type": "code",
            "execution_count": 57,
            "metadata": {},
            "outputs": [
                {
                    "data": {
                        "text/html": "<div>\n<style scoped>\n    .dataframe tbody tr th:only-of-type {\n        vertical-align: middle;\n    }\n\n    .dataframe tbody tr th {\n        vertical-align: top;\n    }\n\n    .dataframe thead th {\n        text-align: right;\n    }\n</style>\n<table border=\"1\" class=\"dataframe\">\n  <thead>\n    <tr style=\"text-align: right;\">\n      <th></th>\n      <th>PostalCode</th>\n      <th>Borough</th>\n      <th>Neighborhood</th>\n      <th>Latitude</th>\n      <th>Longitude</th>\n      <th>Cluster Labels</th>\n      <th>1st Most Common Venue</th>\n      <th>2nd Most Common Venue</th>\n      <th>3rd Most Common Venue</th>\n      <th>4th Most Common Venue</th>\n      <th>5th Most Common Venue</th>\n    </tr>\n  </thead>\n  <tbody>\n    <tr>\n      <th>0</th>\n      <td>M4E</td>\n      <td>East Toronto</td>\n      <td>The Beaches</td>\n      <td>43.676357</td>\n      <td>-79.293031</td>\n      <td>NaN</td>\n      <td>NaN</td>\n      <td>NaN</td>\n      <td>NaN</td>\n      <td>NaN</td>\n      <td>NaN</td>\n    </tr>\n    <tr>\n      <th>1</th>\n      <td>M4K</td>\n      <td>East Toronto</td>\n      <td>The Danforth West, Riverdale</td>\n      <td>43.679557</td>\n      <td>-79.352188</td>\n      <td>NaN</td>\n      <td>NaN</td>\n      <td>NaN</td>\n      <td>NaN</td>\n      <td>NaN</td>\n      <td>NaN</td>\n    </tr>\n    <tr>\n      <th>2</th>\n      <td>M4L</td>\n      <td>East Toronto</td>\n      <td>India Bazaar, The Beaches West</td>\n      <td>43.668999</td>\n      <td>-79.315572</td>\n      <td>NaN</td>\n      <td>NaN</td>\n      <td>NaN</td>\n      <td>NaN</td>\n      <td>NaN</td>\n      <td>NaN</td>\n    </tr>\n    <tr>\n      <th>3</th>\n      <td>M4M</td>\n      <td>East Toronto</td>\n      <td>Studio District</td>\n      <td>43.659526</td>\n      <td>-79.340923</td>\n      <td>NaN</td>\n      <td>NaN</td>\n      <td>NaN</td>\n      <td>NaN</td>\n      <td>NaN</td>\n      <td>NaN</td>\n    </tr>\n    <tr>\n      <th>4</th>\n      <td>M4N</td>\n      <td>Central Toronto</td>\n      <td>Lawrence Park</td>\n      <td>43.728020</td>\n      <td>-79.388790</td>\n      <td>NaN</td>\n      <td>NaN</td>\n      <td>NaN</td>\n      <td>NaN</td>\n      <td>NaN</td>\n      <td>NaN</td>\n    </tr>\n  </tbody>\n</table>\n</div>",
                        "text/plain": "  PostalCode          Borough                    Neighborhood   Latitude  \\\n0        M4E     East Toronto                     The Beaches  43.676357   \n1        M4K     East Toronto    The Danforth West, Riverdale  43.679557   \n2        M4L     East Toronto  India Bazaar, The Beaches West  43.668999   \n3        M4M     East Toronto                 Studio District  43.659526   \n4        M4N  Central Toronto                   Lawrence Park  43.728020   \n\n   Longitude  Cluster Labels 1st Most Common Venue 2nd Most Common Venue  \\\n0 -79.293031             NaN                   NaN                   NaN   \n1 -79.352188             NaN                   NaN                   NaN   \n2 -79.315572             NaN                   NaN                   NaN   \n3 -79.340923             NaN                   NaN                   NaN   \n4 -79.388790             NaN                   NaN                   NaN   \n\n  3rd Most Common Venue 4th Most Common Venue 5th Most Common Venue  \n0                   NaN                   NaN                   NaN  \n1                   NaN                   NaN                   NaN  \n2                   NaN                   NaN                   NaN  \n3                   NaN                   NaN                   NaN  \n4                   NaN                   NaN                   NaN  "
                    },
                    "execution_count": 57,
                    "metadata": {},
                    "output_type": "execute_result"
                }
            ],
            "source": "neighborhoods_venues_sorted.insert(0, 'Cluster Labels', kmeans.labels_)\ntoronto_merged = df\ntoronto_merged = toronto_merged.join(neighborhoods_venues_sorted.set_index('Neighborhood'), on='Neighborhood')\n\ntoronto_merged.head()"
        },
        {
            "cell_type": "code",
            "execution_count": 58,
            "metadata": {},
            "outputs": [
                {
                    "name": "stdout",
                    "output_type": "stream",
                    "text": "The geograpical coordinate of Toronto Canada are 43.6534817, -79.3839347.\n"
                }
            ],
            "source": "address = 'Toronto, Ontario'\n\ngeolocator = Nominatim(user_agent=\"TorontoCanada\")\nlocation = geolocator.geocode(address)\nlatitude = location.latitude\nlongitude = location.longitude\nprint('The geograpical coordinate of Toronto Canada are {}, {}.'.format(latitude, longitude))"
        },
        {
            "cell_type": "markdown",
            "metadata": {},
            "source": "#### Show clusters - Map"
        },
        {
            "cell_type": "code",
            "execution_count": 59,
            "metadata": {},
            "outputs": [
                {
                    "data": {
                        "text/html": "<div style=\"width:100%;\"><div style=\"position:relative;width:100%;height:0;padding-bottom:60%;\"><span style=\"color:#565656\">Make this Notebook Trusted to load map: File -> Trust Notebook</span><iframe src=\"about:blank\" style=\"position:absolute;width:100%;height:100%;left:0;top:0;border:none !important;\" data-html=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 onload=\"this.contentDocument.open();this.contentDocument.write(atob(this.getAttribute('data-html')));this.contentDocument.close();\" allowfullscreen webkitallowfullscreen mozallowfullscreen></iframe></div></div>",
                        "text/plain": "<folium.folium.Map at 0x7f56b3717d50>"
                    },
                    "execution_count": 59,
                    "metadata": {},
                    "output_type": "execute_result"
                }
            ],
            "source": "#create map of Toronto, Canada using latitude and longitude values\nmap_toronto = folium.Map(location=[latitude, longitude], zoom_start=10)\n\n#add markers to map\nfor lat, lng, borough, neighborhood in zip(df['Latitude'], df['Longitude'], df['Borough'], df['Neighborhood']):\n    label = '{}, {}'.format(neighborhood, borough)\n    label = folium.Popup(label, parse_html=True)\n    folium.CircleMarker(\n        [lat, lng],\n        radius=4,\n        popup=label,\n        color='blue',\n        fill=True,\n        fill_color='#87cefa',\n        fill_opacity=0.5,\n        parse_html=False).add_to(map_toronto)\n    \nmap_toronto"
        },
        {
            "cell_type": "markdown",
            "metadata": {},
            "source": "#### Week 3 Completed!"
        },
        {
            "cell_type": "code",
            "execution_count": null,
            "metadata": {},
            "outputs": [],
            "source": ""
        }
    ],
    "metadata": {
        "kernelspec": {
            "display_name": "Python 3.7",
            "language": "python",
            "name": "python3"
        },
        "language_info": {
            "codemirror_mode": {
                "name": "ipython",
                "version": 3
            },
            "file_extension": ".py",
            "mimetype": "text/x-python",
            "name": "python",
            "nbconvert_exporter": "python",
            "pygments_lexer": "ipython3",
            "version": "3.7.9"
        }
    },
    "nbformat": 4,
    "nbformat_minor": 1
}